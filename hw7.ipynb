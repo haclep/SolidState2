{
 "cells": [
  {
   "cell_type": "code",
   "execution_count": 25,
   "metadata": {},
   "outputs": [],
   "source": [
    "import numpy as np\n",
    "import matplotlib.pyplot as plt\n",
    "from math import factorial\n",
    "from math import pi\n",
    "from math import e\n",
    "from numpy import sin\n",
    "from numpy import cos\n",
    "from cmath import sqrt\n",
    "from scipy import special\n",
    "from numpy import exp\n",
    "from scipy import optimize\n",
    "from numpy import log\n",
    "from numpy import tanh\n",
    "from scipy.optimize import fsolve\n",
    "from scipy.optimize import brentq\n",
    "from numpy import conj\n",
    "from numpy import cosh"
   ]
  },
  {
   "cell_type": "code",
   "execution_count": 19,
   "metadata": {},
   "outputs": [],
   "source": [
    "steps = 100\n",
    "convergence = 100\n",
    "w_list = np.linspace(-10.0, 10.0, num=steps)\n",
    "T_list = np.linspace(0.001, 2.0, num=steps)\n",
    "tol = 0.001"
   ]
  },
  {
   "cell_type": "code",
   "execution_count": 11,
   "metadata": {},
   "outputs": [],
   "source": [
    "def Greal_R(w,sigma,U):\n",
    "    tol = 0.00001\n",
    "    result = 0*1j\n",
    "    factor = w + U/2 - sigma\n",
    "    result_positive = factor / 2 + 0.5 * sqrt(factor ** 2 - 4)\n",
    "    #print(result_positive)\n",
    "    result_negative = factor / 2 - 0.5 * sqrt(factor ** 2 - 4)\n",
    "    #print(result_negative)\n",
    "    if result_positive.imag < (-1*tol):\n",
    "        result = result_positive\n",
    "    elif result_negative.imag < (-1*tol):\n",
    "        result = result_negative\n",
    "    else:\n",
    "        if abs(result_positive) < 1:\n",
    "            result = result_positive\n",
    "        elif abs(result_negative) < 1:\n",
    "            result = result_negative\n",
    "        else:\n",
    "            result = -1\n",
    "            #print('hey weirdo.')\n",
    "    return result\n",
    "\n",
    "def Greal_0(w,sigma,U):\n",
    "    return 1 / (1/Greal_R(w,sigma,U) + sigma)\n",
    "\n",
    "def Greal_new(w,sigma,U):\n",
    "    return 0.5 * Greal_0(w,sigma,U) + 0.5 * 1/(1/Greal_0(w,sigma,U) - U)"
   ]
  },
  {
   "cell_type": "code",
   "execution_count": 80,
   "metadata": {},
   "outputs": [],
   "source": [
    "def get_gf(w,U):\n",
    "    retardedreal = 0*1j\n",
    "    #retardedimag_list = []\n",
    "    tol = 0.001\n",
    "    sigma_temp = 0.0\n",
    "    old_sigma = sigma_temp\n",
    "    retarded = Greal_R(w, sigma_temp, U)\n",
    "    #print(retarded)\n",
    "    nonint = 1/(1/retarded + old_sigma)\n",
    "    new = 0.5 * nonint + 0.5 * 1/(1/nonint - U)\n",
    "    new_sigma = 1 / nonint - 1 / new\n",
    "    \n",
    "    for i in range(convergence):\n",
    "        old_sigma = new_sigma\n",
    "        retarded = Greal_R(w, old_sigma, U)\n",
    "        #print(w_list[i],retarded)\n",
    "        nonint = 1/(1/retarded + old_sigma)\n",
    "        new = 0.5 * nonint + 0.5 * 1/(1/nonint - U)\n",
    "        new_sigma = 1 / nonint - 1 / new\n",
    "    #sigma_list.append(new_sigma)\n",
    "    #print('Sigma = ',sigma_list[i])\n",
    "    retardedreal = Greal_R(w, new_sigma, U)\n",
    "    return retardedreal\n",
    "\n",
    "def get_sigma(w,U):\n",
    "    retardedreal = 0*1j\n",
    "    #retardedimag_list = []\n",
    "    tol = 0.001\n",
    "    sigma_temp = 0.0\n",
    "    old_sigma = sigma_temp\n",
    "    retarded = Greal_R(w, sigma_temp, U)\n",
    "    #print(retarded)\n",
    "    nonint = 1/(1/retarded + old_sigma)\n",
    "    new = 0.5 * nonint + 0.5 * 1/(1/nonint - U)\n",
    "    new_sigma = 1 / nonint - 1 / new\n",
    "    \n",
    "    for i in range(convergence):\n",
    "        old_sigma = new_sigma\n",
    "        retarded = Greal_R(w, old_sigma, U)\n",
    "        #print(w_list[i],retarded)\n",
    "        nonint = 1/(1/retarded + old_sigma)\n",
    "        new = 0.5 * nonint + 0.5 * 1/(1/nonint - U)\n",
    "        new_sigma = 1 / nonint - 1 / new\n",
    "    #sigma_list.append(new_sigma)\n",
    "    #print('Sigma = ',sigma_list[i])\n",
    "    #retardedreal = Greal_R(w, new_sigma, U)\n",
    "    return new_sigma\n",
    "\n",
    "\n",
    "def sigma_0(U,T):\n",
    "    w_start = -3\n",
    "    w_stop = 3\n",
    "    w_interval = (w_stop - w_start) / steps\n",
    "    e_start = -1.99\n",
    "    e_stop = 1.99\n",
    "    e_interval = (e_stop - e_start) / steps\n",
    "    integral_value = 0\n",
    "    w = w_start + 0.5 * w_interval\n",
    "    x = e_start\n",
    "    \n",
    "    for i in range(steps):\n",
    "        inner_integral = 0\n",
    "        for j in range(steps):\n",
    "            inner_integral += sqrt(4-x**2)/(2*pi) * 1/3 * (4-x**2) * (-1/pi)**2 * ((1/(w+(U/2)-x-get_sigma(w,U))).imag)**2 * e_interval\n",
    "            #print(inner_integral)\n",
    "            x += e_interval\n",
    "        #print(inner_integral)\n",
    "        integral_value += 1 / (2*(cosh(w/T)+1)) / T * inner_integral * w_interval\n",
    "        w += w_interval\n",
    "        \n",
    "    return integral_value * e**2 * pi\n",
    "\n",
    "def thermal(U,T):\n",
    "    w_start = -3\n",
    "    w_stop = 3\n",
    "    w_interval = (w_stop - w_start) / steps\n",
    "    e_start = -1.99\n",
    "    e_stop = 1.99\n",
    "    e_interval = (e_stop - e_start) / steps\n",
    "    integral_value = 0\n",
    "    w = w_start + 0.5 * w_interval\n",
    "    x = e_start\n",
    "    \n",
    "    for i in range(steps):\n",
    "        inner_integral = 0\n",
    "        for j in range(steps):\n",
    "            inner_integral += sqrt(4-x**2)/(2*pi) * 1/3 * (4-x**2) * (-1/pi)**2 * ((1/(w+(U/2)-x-get_sigma(w,U))).imag)**2 * e_interval\n",
    "            x += e_interval\n",
    "        integral_value += 1 / (2*(cosh(w/T)+1)) / T * w**2 * inner_integral * w_interval\n",
    "        w += w_interval\n",
    "        \n",
    "    return integral_value * e**2 * pi / T"
   ]
  },
  {
   "cell_type": "code",
   "execution_count": 83,
   "metadata": {},
   "outputs": [],
   "source": [
    "def lorenz(U):\n",
    "    lorenz_list = []\n",
    "    T_start = 0.001\n",
    "    T_end = 2.0\n",
    "    T_interval = (T_end - T_start) / steps\n",
    "    T_temp = T_start + 0.5 * T_interval\n",
    "    for i in range(steps):\n",
    "        lorenz_list.append(thermal(U,T_temp)/(T_temp * sigma_0(U,T_temp)))\n",
    "        T_temp += T_interval\n",
    "    return lorenz_list"
   ]
  },
  {
   "cell_type": "code",
   "execution_count": 99,
   "metadata": {},
   "outputs": [],
   "source": [
    "lorenz05 = lorenz(0.5)\n",
    "lorenz05[0] = 0"
   ]
  },
  {
   "cell_type": "code",
   "execution_count": 100,
   "metadata": {},
   "outputs": [],
   "source": [
    "lorenz1 = lorenz(1.0)\n",
    "lorenz1[0] = 0\n",
    "lorenz15 = lorenz(1.5)\n",
    "lorenz15[0] = 0\n",
    "lorenz2 = lorenz(2.0)\n",
    "lorenz2[0] = 0"
   ]
  },
  {
   "cell_type": "code",
   "execution_count": 101,
   "metadata": {},
   "outputs": [
    {
     "name": "stderr",
     "output_type": "stream",
     "text": [
      "C:\\Users\\luoge\\Anaconda3\\lib\\site-packages\\numpy\\core\\_asarray.py:85: ComplexWarning: Casting complex values to real discards the imaginary part\n",
      "  return array(a, dtype, copy=False, order=order)\n"
     ]
    },
    {
     "data": {
      "image/png": "[encoded data removed]",
      "text/plain": [
       "<Figure size 720x576 with 1 Axes>"
      ]
     },
     "metadata": {
      "needs_background": "light"
     },
     "output_type": "display_data"
    }
   ],
   "source": [
    "plt.figure(figsize = (10, 8))\n",
    "plt.ylabel('Lorenz Number')\n",
    "plt.xlabel('T')\n",
    "plt.plot(T_list, lorenz05, '.', label = 'U=0.5')\n",
    "plt.plot(T_list, lorenz1, 'x', label = 'U=1.0')\n",
    "plt.plot(T_list, lorenz15, '^', label = 'U=1.5')\n",
    "plt.plot(T_list, lorenz2, 'o', label = 'U=2.0')\n",
    "plt.legend()\n",
    "plt.show()"
   ]
  },
  {
   "cell_type": "code",
   "execution_count": null,
   "metadata": {},
   "outputs": [],
   "source": []
  }
 ],
 "metadata": {
  "kernelspec": {
   "display_name": "Python 3",
   "language": "python",
   "name": "python3"
  },
  "language_info": {
   "codemirror_mode": {
    "name": "ipython",
    "version": 3
   },
   "file_extension": ".py",
   "mimetype": "text/x-python",
   "name": "python",
   "nbconvert_exporter": "python",
   "pygments_lexer": "ipython3",
   "version": "3.7.1"
  }
 },
 "nbformat": 4,
 "nbformat_minor": 2
}
